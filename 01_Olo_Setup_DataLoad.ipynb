{
  "cells": [
    {
      "cell_type": "markdown",
      "metadata": {},
      "source": [
        "# Olo Demo Setup & Data Loading\n",
        "\n",
        "This notebook handles all the initial setup for the Olo AISQL demo including:\n",
        "- Database and schema creation\n",
        "- Table structure setup  \n",
        "- CSV data loading and verification\n",
        "- Environment preparation for AISQL functions\n",
        "\n",
        "**Run this notebook first before proceeding to the AISQL demos.**\n"
      ]
    },
    {
      "cell_type": "markdown",
      "metadata": {},
      "source": [
        "## Step 1: Create Database and Schema\n"
      ]
    },
    {
      "cell_type": "code",
      "execution_count": null,
      "metadata": {
        "vscode": {
          "languageId": "sql"
        }
      },
      "outputs": [],
      "source": [
        "-- Create the Olo demo environment\n",
        "CREATE OR REPLACE DATABASE OLO_AISQL_DEMO;\n",
        "USE DATABASE OLO_AISQL_DEMO;\n",
        "CREATE OR REPLACE SCHEMA RESTAURANT_DATA;\n",
        "USE SCHEMA RESTAURANT_DATA;\n",
        "\n",
        "-- Ensure we have a warehouse running\n",
        "USE WAREHOUSE COMPUTE_WH; -- Change this to your preferred warehouse\n",
        "\n",
        "-- Verify setup\n",
        "SELECT CURRENT_DATABASE() as database_name, CURRENT_SCHEMA() as schema_name;\n"
      ]
    },
    {
      "cell_type": "markdown",
      "metadata": {},
      "source": [
        "## Step 2: Create Table Structures\n"
      ]
    },
    {
      "cell_type": "code",
      "execution_count": null,
      "metadata": {
        "vscode": {
          "languageId": "sql"
        }
      },
      "outputs": [],
      "source": [
        "-- Create restaurants table\n",
        "CREATE OR REPLACE TABLE restaurants (\n",
        "    restaurant_id INT PRIMARY KEY,\n",
        "    restaurant_name VARCHAR(100),\n",
        "    cuisine_type VARCHAR(50),\n",
        "    address VARCHAR(200),\n",
        "    city VARCHAR(50),\n",
        "    state VARCHAR(2),\n",
        "    zip_code VARCHAR(10),\n",
        "    phone VARCHAR(20),\n",
        "    email VARCHAR(100),\n",
        "    owner_name VARCHAR(100),\n",
        "    date_joined DATE,\n",
        "    status VARCHAR(20),\n",
        "    avg_prep_time_minutes INT,\n",
        "    delivery_fee DECIMAL(5,2),\n",
        "    minimum_order DECIMAL(6,2)\n",
        ");\n",
        "\n",
        "-- Create customers table\n",
        "CREATE OR REPLACE TABLE customers (\n",
        "    customer_id INT PRIMARY KEY,\n",
        "    first_name VARCHAR(50),\n",
        "    last_name VARCHAR(50),\n",
        "    email VARCHAR(100),\n",
        "    phone VARCHAR(20),\n",
        "    address VARCHAR(200),\n",
        "    city VARCHAR(50),\n",
        "    state VARCHAR(2),\n",
        "    zip_code VARCHAR(10),\n",
        "    date_registered DATE,\n",
        "    total_orders INT,\n",
        "    total_spent DECIMAL(10,2),\n",
        "    loyalty_tier VARCHAR(20),\n",
        "    preferred_cuisine VARCHAR(50),\n",
        "    last_order_date DATE\n",
        ");\n"
      ]
    },
    {
      "cell_type": "code",
      "execution_count": null,
      "metadata": {
        "vscode": {
          "languageId": "sql"
        }
      },
      "outputs": [],
      "source": [
        "-- Create menu_items table\n",
        "CREATE OR REPLACE TABLE menu_items (\n",
        "    item_id INT PRIMARY KEY,\n",
        "    restaurant_id INT,\n",
        "    item_name VARCHAR(100),\n",
        "    category VARCHAR(50),\n",
        "    description TEXT,\n",
        "    price DECIMAL(6,2),\n",
        "    cost DECIMAL(6,2),\n",
        "    prep_time_minutes INT,\n",
        "    calories INT,\n",
        "    is_vegetarian BOOLEAN,\n",
        "    is_vegan BOOLEAN,\n",
        "    is_gluten_free BOOLEAN,\n",
        "    popularity_score DECIMAL(3,1),\n",
        "    date_added DATE\n",
        ");\n",
        "\n",
        "-- Create orders table\n",
        "CREATE OR REPLACE TABLE orders (\n",
        "    order_id INT PRIMARY KEY,\n",
        "    customer_id INT,\n",
        "    restaurant_id INT,\n",
        "    order_date DATE,\n",
        "    order_time TIME,\n",
        "    order_type VARCHAR(20),\n",
        "    status VARCHAR(20),\n",
        "    subtotal DECIMAL(8,2),\n",
        "    tax DECIMAL(6,2),\n",
        "    delivery_fee DECIMAL(5,2),\n",
        "    tip DECIMAL(6,2),\n",
        "    total_amount DECIMAL(8,2),\n",
        "    estimated_delivery_time TIME,\n",
        "    actual_delivery_time TIME,\n",
        "    payment_method VARCHAR(20),\n",
        "    promo_code VARCHAR(20),\n",
        "    driver_id INT\n",
        ");\n"
      ]
    },
    {
      "cell_type": "code",
      "execution_count": null,
      "metadata": {
        "vscode": {
          "languageId": "sql"
        }
      },
      "outputs": [],
      "source": [
        "-- Create remaining tables\n",
        "CREATE OR REPLACE TABLE order_items (\n",
        "    order_item_id INT PRIMARY KEY,\n",
        "    order_id INT,\n",
        "    item_id INT,\n",
        "    quantity INT,\n",
        "    unit_price DECIMAL(6,2),\n",
        "    total_price DECIMAL(8,2),\n",
        "    special_instructions TEXT,\n",
        "    customizations TEXT\n",
        ");\n",
        "\n",
        "CREATE OR REPLACE TABLE delivery_drivers (\n",
        "    driver_id INT PRIMARY KEY,\n",
        "    first_name VARCHAR(50),\n",
        "    last_name VARCHAR(50),\n",
        "    phone VARCHAR(20),\n",
        "    email VARCHAR(100),\n",
        "    vehicle_type VARCHAR(20),\n",
        "    license_plate VARCHAR(20),\n",
        "    date_hired DATE,\n",
        "    status VARCHAR(20),\n",
        "    current_rating DECIMAL(2,1),\n",
        "    total_deliveries INT,\n",
        "    total_earnings DECIMAL(10,2),\n",
        "    zone_coverage TEXT\n",
        ");\n",
        "\n",
        "CREATE OR REPLACE TABLE promotions (\n",
        "    promo_id INT PRIMARY KEY,\n",
        "    promo_code VARCHAR(20),\n",
        "    description TEXT,\n",
        "    discount_type VARCHAR(20),\n",
        "    discount_value DECIMAL(6,2),\n",
        "    min_order_amount DECIMAL(6,2),\n",
        "    max_discount DECIMAL(6,2),\n",
        "    start_date DATE,\n",
        "    end_date DATE,\n",
        "    usage_limit INT,\n",
        "    times_used INT,\n",
        "    status VARCHAR(20),\n",
        "    applicable_restaurants TEXT\n",
        ");\n"
      ]
    },
    {
      "cell_type": "markdown",
      "metadata": {},
      "source": [
        "## Step 3: Create Stage and Upload Data\n",
        "\n",
        "**Manual Step Required:** \n",
        "1. Go to Snowflake Web UI → Databases → OLO_AISQL_DEMO → RESTAURANT_DATA → Stages\n",
        "2. Click on OLO_DATA_STAGE after running the command below\n",
        "3. Upload all 7 CSV files from your `olo_demo_data` folder\n"
      ]
    },
    {
      "cell_type": "code",
      "execution_count": null,
      "metadata": {
        "vscode": {
          "languageId": "sql"
        }
      },
      "outputs": [],
      "source": [
        "-- Create stage for CSV files\n",
        "CREATE OR REPLACE STAGE olo_data_stage;\n",
        "\n",
        "-- List files after upload (run this after uploading CSV files)\n",
        "LIST @olo_data_stage;\n"
      ]
    },
    {
      "cell_type": "markdown",
      "metadata": {},
      "source": [
        "## Step 4: Load Data from CSV Files\n",
        "\n",
        "Run these commands in order after uploading the CSV files:\n"
      ]
    },
    {
      "cell_type": "code",
      "execution_count": null,
      "metadata": {
        "vscode": {
          "languageId": "sql"
        }
      },
      "outputs": [],
      "source": [
        "-- Load restaurants data\n",
        "COPY INTO restaurants FROM @olo_data_stage/restaurants.csv\n",
        "FILE_FORMAT = (TYPE = 'CSV' SKIP_HEADER = 1);\n",
        "\n",
        "-- Load customers data  \n",
        "COPY INTO customers FROM @olo_data_stage/customers.csv\n",
        "FILE_FORMAT = (TYPE = 'CSV' SKIP_HEADER = 1);\n",
        "\n",
        "-- Load menu items data\n",
        "COPY INTO menu_items FROM @olo_data_stage/menu_items.csv\n",
        "FILE_FORMAT = (TYPE = 'CSV' SKIP_HEADER = 1);\n"
      ]
    },
    {
      "cell_type": "code",
      "execution_count": null,
      "metadata": {
        "vscode": {
          "languageId": "sql"
        }
      },
      "outputs": [],
      "source": [
        "-- Load orders and related data\n",
        "COPY INTO orders FROM @olo_data_stage/orders.csv\n",
        "FILE_FORMAT = (TYPE = 'CSV' SKIP_HEADER = 1);\n",
        "\n",
        "COPY INTO order_items FROM @olo_data_stage/order_items.csv\n",
        "FILE_FORMAT = (TYPE = 'CSV' SKIP_HEADER = 1);\n",
        "\n",
        "-- Load supporting data\n",
        "COPY INTO delivery_drivers FROM @olo_data_stage/delivery_drivers.csv\n",
        "FILE_FORMAT = (TYPE = 'CSV' SKIP_HEADER = 1);\n",
        "\n",
        "COPY INTO promotions FROM @olo_data_stage/promotions.csv\n",
        "FILE_FORMAT = (TYPE = 'CSV' SKIP_HEADER = 1);\n"
      ]
    },
    {
      "cell_type": "markdown",
      "metadata": {},
      "source": [
        "## Step 5: Verify Data Load\n"
      ]
    },
    {
      "cell_type": "code",
      "execution_count": null,
      "metadata": {
        "vscode": {
          "languageId": "sql"
        }
      },
      "outputs": [],
      "source": [
        "-- Verify all data loaded correctly\n",
        "SELECT 'Restaurants' as table_name, COUNT(*) as records FROM restaurants\n",
        "UNION ALL\n",
        "SELECT 'Customers', COUNT(*) FROM customers\n",
        "UNION ALL\n",
        "SELECT 'Menu Items', COUNT(*) FROM menu_items\n",
        "UNION ALL\n",
        "SELECT 'Orders', COUNT(*) FROM orders\n",
        "UNION ALL\n",
        "SELECT 'Order Items', COUNT(*) FROM order_items\n",
        "UNION ALL\n",
        "SELECT 'Drivers', COUNT(*) FROM delivery_drivers\n",
        "UNION ALL\n",
        "SELECT 'Promotions', COUNT(*) FROM promotions\n",
        "ORDER BY table_name;\n",
        "\n",
        "-- Expected Results:\n",
        "-- Customers: 20\n",
        "-- Drivers: 10  \n",
        "-- Menu Items: 30\n",
        "-- Order Items: 52\n",
        "-- Orders: 30\n",
        "-- Promotions: 10\n",
        "-- Restaurants: 15\n"
      ]
    },
    {
      "cell_type": "code",
      "execution_count": null,
      "metadata": {
        "vscode": {
          "languageId": "sql"
        }
      },
      "outputs": [],
      "source": [
        "-- Sample data preview\n",
        "SELECT 'Restaurant Sample' as data_type, restaurant_name, cuisine_type, city FROM restaurants LIMIT 3\n",
        "UNION ALL\n",
        "SELECT 'Menu Sample', item_name, category, CAST(price AS VARCHAR) FROM menu_items LIMIT 3\n",
        "UNION ALL  \n",
        "SELECT 'Order Sample', CAST(order_id AS VARCHAR), order_type, CAST(total_amount AS VARCHAR) FROM orders LIMIT 3;\n"
      ]
    },
    {
      "cell_type": "markdown",
      "metadata": {},
      "source": [
        "## ✅ Setup Complete!\n",
        "\n",
        "Your Olo demo environment is now ready. You can proceed to:\n",
        "\n",
        "1. **02_Olo_AISQL_Functions.ipynb** - Core AISQL function demonstrations\n",
        "2. **03_Olo_Cortex_Search.ipynb** - Cortex Search Service setup and examples  \n",
        "3. **04_Olo_Cortex_Analyst.ipynb** - Natural language query capabilities\n",
        "\n",
        "### Troubleshooting\n",
        "\n",
        "If you encounter issues:\n",
        "\n",
        "```sql\n",
        "-- Check for any load errors\n",
        "SELECT * FROM TABLE(INFORMATION_SCHEMA.COPY_HISTORY(TABLE_NAME=>'RESTAURANTS', START_TIME=> DATEADD(hours, -1, CURRENT_TIMESTAMP())));\n",
        "\n",
        "-- Verify Cortex functions are available\n",
        "SELECT SYSTEM$GET_CORTEX_FUNCTIONS();\n",
        "\n",
        "-- Test basic Cortex functionality\n",
        "SELECT SNOWFLAKE.CORTEX.COMPLETE('llama3-8b', 'Hello, this is a test.');\n",
        "```\n"
      ]
    }
  ],
  "metadata": {
    "language_info": {
      "name": "python"
    }
  },
  "nbformat": 4,
  "nbformat_minor": 2
}
