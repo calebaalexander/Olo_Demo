{
  "cells": [
    {
      "cell_type": "markdown",
      "metadata": {},
      "source": [
        "# Olo AISQL Functions Demo\n",
        "## Unlocking AI-Powered Insights in the Hospitality Sector\n",
        "\n",
        "This notebook demonstrates the power of Snowflake's AISQL functions using Olo's restaurant and delivery platform data. We'll explore how AI can transform raw operational data into actionable business insights for the hospitality industry.\n",
        "\n",
        "### AISQL Functions Covered:\n",
        "- **AI_SENTIMENT**: Analyze customer satisfaction and feedback sentiment\n",
        "- **AI_CLASSIFY**: Categorize menu items, customer preferences, and operational data\n",
        "- **AI_EXTRACT**: Extract specific insights from restaurant descriptions and reviews\n",
        "- **AI_AGG**: Aggregate insights across multiple data points\n",
        "- **AI_SUMMARIZE_AGG**: Generate executive summaries of business performance\n",
        "- **AI_EMBED & AI_SIMILARITY**: Power recommendation engines for menu items\n",
        "- **AI_COMPLETE**: Generate marketing content and descriptions\n",
        "\n",
        "### Business Context:\n",
        "Olo operates in the competitive hospitality sector, connecting restaurants with customers through digital ordering and delivery platforms. Understanding customer preferences, optimizing menu offerings, and improving operational efficiency are critical for success.\n"
      ]
    },
    {
      "cell_type": "markdown",
      "metadata": {},
      "source": [
        "## Environment Setup\n",
        "\n",
        "**Prerequisites:** \n",
        "1. Run `01_Olo_Setup_DataLoad.ipynb` first to set up the database and load all data\n",
        "2. Upload `customer_reviews.csv` to your `@olo_data_stage` (this file contains realistic customer reviews for AI analysis)\n",
        "\n",
        "Let's connect to the existing Olo demo environment.\n"
      ]
    },
    {
      "cell_type": "code",
      "execution_count": null,
      "metadata": {},
      "outputs": [],
      "source": [
        "-- Connect to the existing Olo demo environment\n",
        "USE DATABASE OLO_AISQL_DEMO;\n",
        "USE SCHEMA RESTAURANT_DATA;\n",
        "USE WAREHOUSE COMPUTE_WH; -- Adjust to your warehouse\n",
        "\n",
        "-- Verify our environment and data\n",
        "SELECT CURRENT_DATABASE() as database_name, CURRENT_SCHEMA() as schema_name;\n"
      ]
    },
    {
      "cell_type": "code",
      "execution_count": null,
      "metadata": {},
      "outputs": [],
      "source": [
        "-- Verify data is loaded and ready for AISQL demonstrations\n",
        "SELECT 'Restaurants' as table_name, COUNT(*) as records FROM restaurants\n",
        "UNION ALL\n",
        "SELECT 'Customers', COUNT(*) FROM customers\n",
        "UNION ALL\n",
        "SELECT 'Menu Items', COUNT(*) FROM menu_items\n",
        "UNION ALL\n",
        "SELECT 'Orders', COUNT(*) FROM orders\n",
        "ORDER BY table_name;\n"
      ]
    },
    {
      "cell_type": "markdown",
      "metadata": {},
      "source": [
        "## 1. AI_SENTIMENT: Customer Satisfaction Analysis\n",
        "\n",
        "Let's start by analyzing customer sentiment. We'll create synthetic customer reviews and use AI_SENTIMENT to understand satisfaction levels across different restaurants and cuisine types.\n"
      ]
    },
    {
      "cell_type": "code",
      "execution_count": null,
      "metadata": {
        "vscode": {
          "languageId": "sql"
        }
      },
      "outputs": [],
      "source": [
        "-- Create customer reviews table and load from CSV\n",
        "CREATE OR REPLACE TABLE customer_reviews (\n",
        "    review_id INT PRIMARY KEY,\n",
        "    order_id INT,\n",
        "    customer_id INT,\n",
        "    restaurant_id INT,\n",
        "    restaurant_name VARCHAR(100),\n",
        "    cuisine_type VARCHAR(50),\n",
        "    review_text TEXT,\n",
        "    rating INT,\n",
        "    review_date DATE\n",
        ");\n",
        "\n",
        "-- Load customer reviews data from CSV\n",
        "COPY INTO customer_reviews FROM @olo_data_stage/customer_reviews.csv\n",
        "FILE_FORMAT = (TYPE = 'CSV' SKIP_HEADER = 1);\n",
        "\n",
        "-- Verify the reviews loaded correctly\n",
        "SELECT COUNT(*) as total_reviews FROM customer_reviews;\n",
        "\n",
        "-- Show sample data to confirm it loaded\n",
        "SELECT restaurant_name, cuisine_type, rating, review_text \n",
        "FROM customer_reviews \n",
        "LIMIT 5;\n",
        "\n",
        "-- Test AI_SENTIMENT on one review to verify it works\n",
        "SELECT \n",
        "    restaurant_name,\n",
        "    LEFT(review_text, 50) || '...' as review_preview,\n",
        "    AI_SENTIMENT(review_text) as full_sentiment_result,\n",
        "    AI_SENTIMENT(review_text):categories[0]:sentiment as sentiment_label\n",
        "FROM customer_reviews \n",
        "LIMIT 3;\n"
      ]
    },
    {
      "cell_type": "code",
      "execution_count": null,
      "metadata": {
        "vscode": {
          "languageId": "sql"
        }
      },
      "outputs": [],
      "source": [
        "-- Comprehensive sentiment analysis: Individual reviews + Restaurant summary\n",
        "WITH individual_sentiment AS (\n",
        "    SELECT \n",
        "        restaurant_id,\n",
        "        restaurant_name,\n",
        "        cuisine_type,\n",
        "        review_text,\n",
        "        rating,\n",
        "        review_date,\n",
        "        AI_SENTIMENT(review_text):categories[0]:sentiment as sentiment_label,\n",
        "        CASE \n",
        "            WHEN AI_SENTIMENT(review_text):categories[0]:sentiment = 'positive' THEN 1\n",
        "            WHEN AI_SENTIMENT(review_text):categories[0]:sentiment = 'neutral' THEN 0\n",
        "            WHEN AI_SENTIMENT(review_text):categories[0]:sentiment = 'negative' THEN -1\n",
        "            ELSE 0\n",
        "        END as sentiment_score\n",
        "    FROM customer_reviews\n",
        ")\n",
        "-- Show individual reviews with sentiment\n",
        "SELECT \n",
        "    restaurant_name,\n",
        "    cuisine_type,\n",
        "    LEFT(review_text, 80) || '...' as review_preview,\n",
        "    sentiment_label,\n",
        "    sentiment_score,  -- This shows -1, 0, or 1\n",
        "    rating as original_star_rating,  -- Original 1-5 star rating for comparison\n",
        "    review_date\n",
        "FROM individual_sentiment\n",
        "WHERE review_date >= '2024-01-01'\n",
        "ORDER BY review_date DESC\n",
        "LIMIT 12;\n"
      ]
    },
    {
      "cell_type": "code",
      "execution_count": null,
      "metadata": {
        "vscode": {
          "languageId": "sql"
        }
      },
      "outputs": [],
      "source": [
        "-- Restaurant sentiment summary + Geographic analysis\n",
        "WITH sentiment_base AS (\n",
        "    SELECT \n",
        "        cr.restaurant_id,\n",
        "        cr.restaurant_name,\n",
        "        cr.cuisine_type,\n",
        "        r.city,\n",
        "        r.state,\n",
        "        AI_SENTIMENT(cr.review_text):categories[0]:sentiment as sentiment_label,\n",
        "        CASE \n",
        "            WHEN AI_SENTIMENT(cr.review_text):categories[0]:sentiment = 'positive' THEN 1\n",
        "            WHEN AI_SENTIMENT(cr.review_text):categories[0]:sentiment = 'neutral' THEN 0\n",
        "            WHEN AI_SENTIMENT(cr.review_text):categories[0]:sentiment = 'negative' THEN -1\n",
        "            ELSE 0\n",
        "        END as sentiment_score\n",
        "    FROM customer_reviews cr\n",
        "    JOIN restaurants r ON cr.restaurant_id = r.restaurant_id\n",
        ")\n",
        "-- Restaurant-level sentiment analysis\n",
        "SELECT\n",
        "    restaurant_name,\n",
        "    cuisine_type,\n",
        "    city || ', ' || state as location,\n",
        "    COUNT(*) as total_reviews,\n",
        "    COUNT(CASE WHEN sentiment_label = 'positive' THEN 1 END) as positive_reviews,\n",
        "    COUNT(CASE WHEN sentiment_label = 'negative' THEN 1 END) as negative_reviews,\n",
        "    ROUND((COUNT(CASE WHEN sentiment_label = 'positive' THEN 1 END) * 100.0 / COUNT(*)), 1) as positive_percentage,\n",
        "    ROUND(AVG(sentiment_score), 3) as avg_sentiment_score\n",
        "FROM sentiment_base\n",
        "GROUP BY restaurant_name, cuisine_type, city, state\n",
        "ORDER BY avg_sentiment_score DESC, positive_percentage DESC;\n",
        "\n",
        "-- Business Insight: This comprehensive analysis shows restaurant performance with location context,\n",
        "-- enabling both operational improvements and geographic expansion decisions.\n"
      ]
    },
    {
      "cell_type": "markdown",
      "metadata": {},
      "source": [
        "## 2. AI_CLASSIFY: Menu Item and Customer Preference Classification\n",
        "\n",
        "Next, we'll use AI_CLASSIFY to categorize menu items by dietary preferences and classify customer ordering patterns.\n"
      ]
    },
    {
      "cell_type": "code",
      "execution_count": null,
      "metadata": {
        "vscode": {
          "languageId": "sql"
        }
      },
      "outputs": [],
      "source": [
        "-- IMPROVED: Classify menu items using item name + description for better accuracy\n",
        "SELECT \n",
        "    m.item_name,\n",
        "    m.description,\n",
        "    r.cuisine_type,\n",
        "    m.price,\n",
        "    -- Use CONCAT to give AI_CLASSIFY full context (item name + description)\n",
        "    AI_CLASSIFY(\n",
        "        CONCAT(m.item_name, ': ', m.description),\n",
        "        ['Meat-Based', 'Vegetarian', 'Vegan', 'Seafood', 'Mixed']\n",
        "    ) as dietary_classification,\n",
        "    AI_CLASSIFY(\n",
        "        CONCAT(m.item_name, ': ', m.description),\n",
        "        ['Spicy', 'Mild', 'Creamy', 'Grilled', 'Fried']\n",
        "    ) as preparation_style\n",
        "FROM menu_items m\n",
        "JOIN restaurants r ON m.restaurant_id = r.restaurant_id\n",
        "ORDER BY m.popularity_score DESC\n",
        "LIMIT 20;\n",
        "\n",
        "-- Business Insight: Using item name + description gives AI_CLASSIFY much better context.\n",
        "-- Now \"Chicken Tikka Masala: Creamy tomato curry...\" will correctly classify as \"Meat-Based\".\n"
      ]
    },
    {
      "cell_type": "code",
      "execution_count": null,
      "metadata": {
        "vscode": {
          "languageId": "sql"
        }
      },
      "outputs": [],
      "source": [
        "-- Classify customer ordering behavior patterns\n",
        "WITH customer_behavior AS (\n",
        "    SELECT \n",
        "        c.customer_id,\n",
        "        c.first_name || ' ' || c.last_name as customer_name,\n",
        "        c.loyalty_tier,\n",
        "        c.preferred_cuisine,\n",
        "        c.total_orders,\n",
        "        c.total_spent,\n",
        "        ROUND(c.total_spent / c.total_orders, 2) as avg_order_value,\n",
        "        CASE \n",
        "            WHEN c.total_orders >= 50 THEN 'Frequent orderer with high engagement and loyalty'\n",
        "            WHEN c.total_orders >= 20 THEN 'Regular customer with consistent ordering patterns'\n",
        "            WHEN c.total_orders >= 10 THEN 'Occasional customer with moderate engagement'\n",
        "            ELSE 'New or infrequent customer with limited order history'\n",
        "        END as customer_description\n",
        "    FROM customers c\n",
        ")\n",
        "SELECT \n",
        "    customer_name,\n",
        "    loyalty_tier,\n",
        "    preferred_cuisine,\n",
        "    total_orders,\n",
        "    total_spent,\n",
        "    avg_order_value,\n",
        "    AI_CLASSIFY(\n",
        "        customer_description,\n",
        "        ['VIP Customer', 'Loyal Regular', 'Growing Customer', 'At-Risk Customer', 'New Customer']\n",
        "    ) as customer_segment\n",
        "FROM customer_behavior\n",
        "ORDER BY total_spent DESC\n",
        "LIMIT 15;\n",
        "\n",
        "-- Business Insight: Customer segmentation enables targeted marketing campaigns \n",
        "-- and personalized experiences to increase retention and lifetime value.\n"
      ]
    },
    {
      "cell_type": "markdown",
      "metadata": {},
      "source": [
        "## 3. AI_EXTRACT: Extracting Operational Insights\n",
        "\n",
        "We'll use AI_EXTRACT to pull specific insights from restaurant descriptions and operational data.\n"
      ]
    },
    {
      "cell_type": "code",
      "execution_count": null,
      "metadata": {
        "vscode": {
          "languageId": "sql"
        }
      },
      "outputs": [],
      "source": [
        "-- Create enhanced restaurant profiles with detailed descriptions\n",
        "CREATE OR REPLACE TABLE restaurant_profiles AS\n",
        "SELECT \n",
        "    r.*,\n",
        "    CASE r.cuisine_type\n",
        "        WHEN 'Italian' THEN 'Authentic Italian cuisine featuring handmade pasta, wood-fired pizzas, and traditional recipes passed down through generations. Known for using imported ingredients and creating a warm, family-friendly atmosphere.'\n",
        "        WHEN 'Chinese' THEN 'Traditional Chinese restaurant offering a wide variety of regional dishes including Szechuan spicy specialties, Cantonese dim sum, and fresh wok-fried entrees. Emphasis on fresh vegetables and authentic cooking techniques.'\n",
        "        WHEN 'American' THEN 'Classic American comfort food featuring gourmet burgers, craft beer selection, and locally-sourced ingredients. Casual dining atmosphere with focus on quality and generous portions.'\n",
        "        WHEN 'Mexican' THEN 'Vibrant Mexican cuisine with fresh salsas, house-made tortillas, and authentic spices. Features both traditional favorites and modern fusion dishes with emphasis on fresh, local ingredients.'\n",
        "        WHEN 'Japanese' THEN 'Premium Japanese dining experience specializing in fresh sushi, sashimi, and traditional cooked dishes. Commitment to authentic preparation methods and highest quality fish and ingredients.'\n",
        "        WHEN 'BBQ' THEN 'Authentic barbecue smokehouse featuring slow-smoked meats, house-made sauces, and traditional Southern sides. Known for tender, flavorful meats and authentic pit-smoking techniques.'\n",
        "        WHEN 'Vegetarian' THEN 'Plant-based cuisine focusing on organic, locally-sourced ingredients. Creative vegetarian and vegan options that are both nutritious and flavorful, appealing to health-conscious diners.'\n",
        "        WHEN 'Vietnamese' THEN 'Traditional Vietnamese cuisine featuring fresh herbs, aromatic broths, and authentic pho recipes. Emphasis on healthy, light dishes with complex flavors and fresh ingredients.'\n",
        "        ELSE 'Diverse menu offering quality dishes with focus on fresh ingredients and customer satisfaction.'\n",
        "    END as restaurant_description\n",
        "FROM restaurants r;\n"
      ]
    },
    {
      "cell_type": "code",
      "execution_count": null,
      "metadata": {
        "vscode": {
          "languageId": "sql"
        }
      },
      "outputs": [],
      "source": [
        "-- Extract key selling points and operational strengths from restaurant descriptions\n",
        "-- Using AI_EXTRACT with proper responseFormat syntax\n",
        "SELECT \n",
        "    restaurant_name,\n",
        "    cuisine_type,\n",
        "    LEFT(restaurant_description, 100) || '...' as description_preview,\n",
        "    AI_EXTRACT(\n",
        "        text => restaurant_description,\n",
        "        responseFormat => {'advantages': 'What are the main competitive advantages mentioned?', 'quality': 'What quality claims are made?', 'atmosphere': 'What type of dining atmosphere is described?'}\n",
        "    ) as extracted_insights\n",
        "FROM restaurant_profiles\n",
        "LIMIT 5;\n",
        "\n",
        "-- Business Insight: This analysis helps identify what restaurants emphasize \n",
        "-- in their positioning and can inform marketing strategies and competitive analysis.\n"
      ]
    },
    {
      "cell_type": "code",
      "execution_count": null,
      "metadata": {
        "vscode": {
          "languageId": "sql"
        }
      },
      "outputs": [],
      "source": [
        "-- User-friendly view of extracted restaurant insights (optimized to call AI_EXTRACT once)\n",
        "WITH extracted_insights AS (\n",
        "    SELECT \n",
        "        restaurant_name,\n",
        "        cuisine_type,\n",
        "        AI_EXTRACT(\n",
        "            text => restaurant_description,\n",
        "            responseFormat => {'advantages': 'What are the main competitive advantages mentioned?', 'quality': 'What quality claims are made?', 'atmosphere': 'What type of dining atmosphere is described?'}\n",
        "        ) as insights\n",
        "    FROM restaurant_profiles\n",
        "    LIMIT 8\n",
        ")\n",
        "SELECT \n",
        "    restaurant_name,\n",
        "    cuisine_type,\n",
        "    -- Parse the JSON response into readable columns\n",
        "    insights:response:advantages as \"🏆 Competitive Advantages\",\n",
        "    insights:response:quality as \"✨ Quality Claims\", \n",
        "    insights:response:atmosphere as \"🍽️ Dining Atmosphere\"\n",
        "FROM extracted_insights\n",
        "ORDER BY restaurant_name;\n",
        "\n",
        "-- This provides a clean, structured view of the key insights extracted from each restaurant's description\n",
        "-- Each column shows a specific aspect that can inform marketing and competitive positioning"
      ]
    },
    {
      "cell_type": "markdown",
      "metadata": {},
      "source": [
        "## 4. AI_AGG & AI_SUMMARIZE_AGG: Aggregated Business Intelligence\n",
        "\n",
        "Let's use AI_AGG to generate insights across multiple data points and AI_SUMMARIZE_AGG for executive summaries.\n"
      ]
    },
    {
      "cell_type": "code",
      "execution_count": null,
      "metadata": {
        "vscode": {
          "languageId": "sql"
        }
      },
      "outputs": [],
      "source": [
        "-- Use AI_AGG to analyze customer feedback patterns across cuisine types\n",
        "SELECT \n",
        "    cuisine_type,\n",
        "    COUNT(*) as review_count,\n",
        "    AI_AGG(\n",
        "        review_text,\n",
        "        'What are the most common positive aspects mentioned in these restaurant reviews?'\n",
        "    ) as common_positives,\n",
        "    AI_AGG(\n",
        "        review_text,\n",
        "        'What are the main areas for improvement mentioned in these reviews?'\n",
        "    ) as improvement_areas\n",
        "FROM customer_reviews\n",
        "GROUP BY cuisine_type\n",
        "ORDER BY review_count DESC;\n",
        "\n",
        "-- Business Insight: This aggregated analysis reveals cuisine-specific \n",
        "-- strengths and weaknesses, enabling targeted operational improvements.\n"
      ]
    },
    {
      "cell_type": "code",
      "execution_count": null,
      "metadata": {
        "vscode": {
          "languageId": "sql"
        }
      },
      "outputs": [],
      "source": [
        "-- Generate executive summary of customer satisfaction by cuisine type using AI_SUMMARIZE_AGG\n",
        "SELECT \n",
        "    cuisine_type,\n",
        "    COUNT(*) as total_reviews,\n",
        "    ROUND(AVG(CASE \n",
        "        WHEN AI_SENTIMENT(review_text):categories[0]:sentiment = 'positive' THEN 1\n",
        "        WHEN AI_SENTIMENT(review_text):categories[0]:sentiment = 'neutral' THEN 0\n",
        "        WHEN AI_SENTIMENT(review_text):categories[0]:sentiment = 'negative' THEN -1\n",
        "        ELSE 0\n",
        "    END), 3) as avg_sentiment,\n",
        "    AI_SUMMARIZE_AGG(review_text) as executive_summary\n",
        "FROM customer_reviews\n",
        "GROUP BY cuisine_type\n",
        "ORDER BY avg_sentiment DESC;\n",
        "\n",
        "-- Business Insight: These summaries provide executives with quick insights \n",
        "-- into customer perception and satisfaction across different cuisine segments.\n"
      ]
    },
    {
      "cell_type": "code",
      "execution_count": null,
      "metadata": {
        "vscode": {
          "languageId": "sql"
        }
      },
      "outputs": [],
      "source": [
        "-- Analyze menu item descriptions to identify trending ingredients and preparation methods\n",
        "SELECT \n",
        "    category,\n",
        "    COUNT(*) as item_count,\n",
        "    ROUND(AVG(price), 2) as avg_price,\n",
        "    AI_AGG(\n",
        "        description,\n",
        "        'What cooking methods and preparation techniques are most commonly mentioned?'\n",
        "    ) as common_cooking_methods,\n",
        "    AI_AGG(\n",
        "        description,\n",
        "        'What ingredients or flavor profiles appear most frequently?'\n",
        "    ) as popular_ingredients\n",
        "FROM menu_items\n",
        "GROUP BY category\n",
        "HAVING COUNT(*) >= 3\n",
        "ORDER BY avg_price DESC;\n",
        "\n",
        "-- Business Insight: Understanding trending ingredients and cooking methods \n",
        "-- helps restaurants stay competitive and develop new menu items.\n"
      ]
    },
    {
      "cell_type": "markdown",
      "metadata": {},
      "source": [
        "## 5. AI_COMPLETE: Marketing Content Generation\n",
        "\n",
        "Use AI_COMPLETE to generate marketing content, promotional descriptions, and customer communications at scale.\n"
      ]
    },
    {
      "cell_type": "code",
      "execution_count": null,
      "metadata": {
        "vscode": {
          "languageId": "sql"
        }
      },
      "outputs": [],
      "source": [
        "-- Generate promotional content for top-performing restaurants\n",
        "WITH top_restaurants AS (\n",
        "    SELECT \n",
        "        r.restaurant_name,\n",
        "        r.cuisine_type,\n",
        "        COUNT(o.order_id) as order_count,\n",
        "        ROUND(AVG(o.total_amount), 2) as avg_order_value\n",
        "    FROM restaurants r\n",
        "    JOIN orders o ON r.restaurant_id = o.restaurant_id\n",
        "    WHERE o.status = 'delivered'\n",
        "    GROUP BY r.restaurant_name, r.cuisine_type\n",
        "    ORDER BY order_count DESC\n",
        "    LIMIT 5\n",
        ")\n",
        "SELECT \n",
        "    restaurant_name,\n",
        "    cuisine_type,\n",
        "    order_count,\n",
        "    avg_order_value,\n",
        "    AI_COMPLETE(\n",
        "        'llama3-8b',\n",
        "        'Write a compelling promotional email subject line for ' || restaurant_name || \n",
        "        ', a popular ' || cuisine_type || ' restaurant with an average order value of $' || avg_order_value ||\n",
        "        '. Make it engaging and highlight their popularity.'\n",
        "    ) as email_subject_line,\n",
        "    AI_COMPLETE(\n",
        "        'llama3-8b',\n",
        "        'Create a 50-word promotional description for ' || restaurant_name || \n",
        "        ', highlighting their ' || cuisine_type || ' cuisine and popularity among customers. ' ||\n",
        "        'Mention they have served ' || order_count || ' orders. Make it appetizing and compelling.'\n",
        "    ) as promotional_description\n",
        "FROM top_restaurants;\n",
        "\n",
        "-- Business Insight: AI-generated marketing content scales promotional efforts \n",
        "-- and ensures consistent, engaging messaging across restaurant partners.\n"
      ]
    },
    {
      "cell_type": "code",
      "execution_count": null,
      "metadata": {
        "vscode": {
          "languageId": "sql"
        }
      },
      "outputs": [],
      "source": [
        "-- Generate personalized customer retention messages\n",
        "WITH customer_insights AS (\n",
        "    SELECT \n",
        "        c.customer_id,\n",
        "        c.first_name,\n",
        "        c.loyalty_tier,\n",
        "        c.preferred_cuisine,\n",
        "        c.total_orders,\n",
        "        c.total_spent,\n",
        "        DATEDIFF(days, c.last_order_date, CURRENT_DATE()) as days_since_last_order\n",
        "    FROM customers c\n",
        "    WHERE days_since_last_order > 30  -- Customers who haven't ordered recently\n",
        "    ORDER BY total_spent DESC\n",
        "    LIMIT 5\n",
        ")\n",
        "SELECT \n",
        "    customer_id,\n",
        "    first_name,\n",
        "    loyalty_tier,\n",
        "    preferred_cuisine,\n",
        "    total_spent,\n",
        "    days_since_last_order,\n",
        "    AI_COMPLETE(\n",
        "        'llama3-8b',\n",
        "        'Write a personalized retention email for ' || first_name || \n",
        "        ', a ' || loyalty_tier || ' customer who prefers ' || preferred_cuisine || \n",
        "        ' cuisine and has spent $' || total_spent || ' but hasn''t ordered in ' || \n",
        "        days_since_last_order || ' days. Make it warm and include a special offer.'\n",
        "    ) as retention_message\n",
        "FROM customer_insights;\n",
        "\n",
        "-- Business Insight: Personalized retention campaigns powered by AI_COMPLETE \n",
        "-- can significantly improve customer lifetime value and reduce churn.\n"
      ]
    },
    {
      "cell_type": "code",
      "execution_count": null,
      "metadata": {
        "vscode": {
          "languageId": "sql"
        }
      },
      "outputs": [],
      "source": [
        "-- Create personalized recommendations based on customer preferences\n",
        "WITH customer_preference_embedding AS (\n",
        "    SELECT \n",
        "        customer_id,\n",
        "        first_name || ' ' || last_name as customer_name,\n",
        "        preferred_cuisine,\n",
        "        loyalty_tier,\n",
        "        AI_EMBED('snowflake-arctic-embed-l-v2.0',\n",
        "            'Customer prefers ' || preferred_cuisine || ' cuisine, ' ||\n",
        "            loyalty_tier || ' tier member with ' || total_orders || ' orders'\n",
        "        ) as preference_embedding\n",
        "    FROM customers\n",
        "    WHERE customer_id = 2001  -- Example customer\n",
        ")\n",
        "SELECT \n",
        "    c.customer_name,\n",
        "    c.preferred_cuisine,\n",
        "    c.loyalty_tier,\n",
        "    m.item_name,\n",
        "    m.restaurant_name,\n",
        "    m.cuisine_type,\n",
        "    m.price,\n",
        "    ROUND(AI_SIMILARITY(m.description_embedding, c.preference_embedding), 4) as recommendation_score\n",
        "FROM menu_embeddings m\n",
        "CROSS JOIN customer_preference_embedding c\n",
        "ORDER BY recommendation_score DESC\n",
        "LIMIT 15;\n",
        "\n",
        "-- Business Insight: Personalized recommendations increase order value \n",
        "-- and customer satisfaction by suggesting items aligned with individual preferences.\n"
      ]
    },
    {
      "cell_type": "markdown",
      "metadata": {},
      "source": [
        "## Fix for AI_SENTIMENT AVG Error\n",
        "\n",
        "The error occurs because `AI_SENTIMENT` returns a JSON object, not a numeric value. Here's the corrected query:\n",
        "\n",
        "```sql\n",
        "-- CORRECTED: Comprehensive restaurant performance analysis\n",
        "WITH restaurant_analysis AS (\n",
        "    SELECT \n",
        "        r.restaurant_name,\n",
        "        r.cuisine_type,\n",
        "        COUNT(DISTINCT o.order_id) as total_orders,\n",
        "        ROUND(AVG(o.total_amount), 2) as avg_order_value,\n",
        "        ROUND(SUM(o.total_amount), 2) as total_revenue,\n",
        "        COUNT(DISTINCT o.customer_id) as unique_customers,\n",
        "        -- FIXED: Extract sentiment score from JSON object\n",
        "        ROUND(AVG(CASE \n",
        "            WHEN AI_SENTIMENT(cr.review_text):categories[0]:sentiment = 'positive' THEN 1\n",
        "            WHEN AI_SENTIMENT(cr.review_text):categories[0]:sentiment = 'neutral' THEN 0\n",
        "            WHEN AI_SENTIMENT(cr.review_text):categories[0]:sentiment = 'negative' THEN -1\n",
        "            ELSE 0\n",
        "        END), 3) as avg_sentiment_score\n",
        "    FROM restaurants r\n",
        "    JOIN orders o ON r.restaurant_id = o.restaurant_id\n",
        "    LEFT JOIN customer_reviews cr ON r.restaurant_id = cr.restaurant_id\n",
        "    WHERE o.status = 'delivered'\n",
        "    GROUP BY r.restaurant_name, r.cuisine_type\n",
        ")\n",
        "SELECT \n",
        "    restaurant_name,\n",
        "    cuisine_type,\n",
        "    total_orders,\n",
        "    avg_order_value,\n",
        "    total_revenue,\n",
        "    unique_customers,\n",
        "    avg_sentiment_score,\n",
        "    AI_CLASSIFY(\n",
        "        'llama3-8b',\n",
        "        'Restaurant with ' || total_orders || ' orders, $' || avg_order_value || ' average order value, ' ||\n",
        "        '$' || total_revenue || ' total revenue, ' || unique_customers || ' unique customers, ' ||\n",
        "        'sentiment score ' || avg_sentiment_score,\n",
        "        ['Top Performer', 'Strong Performer', 'Average Performer', 'Needs Improvement', 'Underperformer']\n",
        "    ) as performance_category,\n",
        "    AI_COMPLETE(\n",
        "        'llama3-8b',\n",
        "        'Based on this restaurant performance data: ' || total_orders || ' orders, $' || total_revenue || \n",
        "        ' revenue, ' || unique_customers || ' customers, sentiment score ' || avg_sentiment_score || \n",
        "        '. Provide 2-3 specific actionable recommendations for improvement in 75 words or less.'\n",
        "    ) as improvement_recommendations\n",
        "FROM restaurant_analysis\n",
        "ORDER BY total_revenue DESC;\n",
        "```\n",
        "\n",
        "**Key Changes:**\n",
        "1. **Fixed AI_SENTIMENT**: Extract sentiment from `:categories[0]:sentiment` and convert to numeric (-1, 0, 1)\n",
        "2. **Added model parameters**: Both `AI_CLASSIFY` and `AI_COMPLETE` now have `'llama3-8b'` model parameter\n",
        "3. **Proper aggregation**: Now `AVG()` works on numeric values instead of JSON objects\n"
      ]
    },
    {
      "cell_type": "markdown",
      "metadata": {},
      "source": [
        "## 6. AI_COMPLETE: Marketing Content Generation\n",
        "\n",
        "Use AI_COMPLETE to generate marketing content, promotional descriptions, and customer communications.\n"
      ]
    },
    {
      "cell_type": "code",
      "execution_count": null,
      "metadata": {
        "vscode": {
          "languageId": "sql"
        }
      },
      "outputs": [],
      "source": [
        "-- Generate promotional content for top-performing restaurants\n",
        "WITH top_restaurants AS (\n",
        "    SELECT \n",
        "        r.restaurant_name,\n",
        "        r.cuisine_type,\n",
        "        COUNT(o.order_id) as order_count,\n",
        "        ROUND(AVG(o.total_amount), 2) as avg_order_value\n",
        "    FROM restaurants r\n",
        "    JOIN orders o ON r.restaurant_id = o.restaurant_id\n",
        "    WHERE o.status = 'delivered'\n",
        "    GROUP BY r.restaurant_name, r.cuisine_type\n",
        "    ORDER BY order_count DESC\n",
        "    LIMIT 5\n",
        ")\n",
        "SELECT \n",
        "    restaurant_name,\n",
        "    cuisine_type,\n",
        "    order_count,\n",
        "    avg_order_value,\n",
        "    AI_COMPLETE(\n",
        "        'llama3-8b',\n",
        "        'Write a compelling promotional email subject line for ' || restaurant_name || \n",
        "        ', a popular ' || cuisine_type || ' restaurant with an average order value of $' || avg_order_value ||\n",
        "        '. Make it engaging and highlight their popularity.'\n",
        "    ) as email_subject_line,\n",
        "    AI_COMPLETE(\n",
        "        'llama3-8b',\n",
        "        'Create a 50-word promotional description for ' || restaurant_name || \n",
        "        ', highlighting their ' || cuisine_type || ' cuisine and popularity among customers. ' ||\n",
        "        'Mention they have served ' || order_count || ' orders. Make it appetizing and compelling.'\n",
        "    ) as promotional_description\n",
        "FROM top_restaurants;\n",
        "\n",
        "-- Business Insight: AI-generated marketing content scales promotional efforts \n",
        "-- and ensures consistent, engaging messaging across restaurant partners.\n"
      ]
    },
    {
      "cell_type": "code",
      "execution_count": null,
      "metadata": {
        "vscode": {
          "languageId": "sql"
        }
      },
      "outputs": [],
      "source": [
        "-- Generate personalized customer retention messages\n",
        "WITH customer_insights AS (\n",
        "    SELECT \n",
        "        c.customer_id,\n",
        "        c.first_name,\n",
        "        c.loyalty_tier,\n",
        "        c.preferred_cuisine,\n",
        "        c.total_orders,\n",
        "        c.total_spent,\n",
        "        DATEDIFF(days, c.last_order_date, CURRENT_DATE()) as days_since_last_order\n",
        "    FROM customers c\n",
        "    WHERE days_since_last_order > 30  -- Customers who haven't ordered recently\n",
        "    ORDER BY total_spent DESC\n",
        "    LIMIT 10\n",
        ")\n",
        "SELECT \n",
        "    customer_id,\n",
        "    first_name,\n",
        "    loyalty_tier,\n",
        "    preferred_cuisine,\n",
        "    days_since_last_order,\n",
        "    AI_COMPLETE(\n",
        "        'llama3-8b',\n",
        "        'Write a personalized win-back email for ' || first_name || \n",
        "        ', a ' || loyalty_tier || ' tier customer who loves ' || preferred_cuisine || ' food. ' ||\n",
        "        'They have placed ' || total_orders || ' orders and spent $' || total_spent || ' total. ' ||\n",
        "        'They havent ordered in ' || days_since_last_order || ' days. ' ||\n",
        "        'Make it warm, personal, and include a compelling offer. Keep it under 100 words.'\n",
        "    ) as retention_message\n",
        "FROM customer_insights;\n",
        "\n",
        "-- Business Insight: Personalized retention messages improve customer reactivation rates \n",
        "-- and demonstrate the value of AI in customer relationship management.\n"
      ]
    },
    {
      "cell_type": "markdown",
      "metadata": {},
      "source": [
        "## 7. Advanced Analytics: Combining Multiple AISQL Functions\n",
        "\n",
        "Let's combine multiple AISQL functions to create comprehensive business intelligence dashboards.\n"
      ]
    },
    {
      "cell_type": "code",
      "execution_count": null,
      "metadata": {
        "vscode": {
          "languageId": "sql"
        }
      },
      "outputs": [],
      "source": [
        "-- Comprehensive restaurant performance analysis combining multiple AI functions\n",
        "WITH restaurant_analysis AS (\n",
        "    SELECT \n",
        "        r.restaurant_name,\n",
        "        r.cuisine_type,\n",
        "        COUNT(DISTINCT o.order_id) as total_orders,\n",
        "        ROUND(AVG(o.total_amount), 2) as avg_order_value,\n",
        "        ROUND(SUM(o.total_amount), 2) as total_revenue,\n",
        "        COUNT(DISTINCT o.customer_id) as unique_customers,\n",
        "        ROUND(AVG(CASE \n",
        "            WHEN AI_SENTIMENT(cr.review_text):categories[0]:sentiment = 'positive' THEN 1\n",
        "            WHEN AI_SENTIMENT(cr.review_text):categories[0]:sentiment = 'neutral' THEN 0\n",
        "            WHEN AI_SENTIMENT(cr.review_text):categories[0]:sentiment = 'negative' THEN -1\n",
        "            ELSE 0\n",
        "        END), 3) as avg_sentiment_score\n",
        "    FROM restaurants r\n",
        "    JOIN orders o ON r.restaurant_id = o.restaurant_id\n",
        "    LEFT JOIN customer_reviews cr ON r.restaurant_id = cr.restaurant_id\n",
        "    WHERE o.status = 'delivered'\n",
        "    GROUP BY r.restaurant_name, r.cuisine_type\n",
        ")\n",
        "SELECT \n",
        "    restaurant_name,\n",
        "    cuisine_type,\n",
        "    total_orders,\n",
        "    avg_order_value,\n",
        "    total_revenue,\n",
        "    unique_customers,\n",
        "    avg_sentiment_score,\n",
        "    AI_CLASSIFY(\n",
        "        'Restaurant with ' || total_orders || ' orders, $' || avg_order_value || ' average order value, ' ||\n",
        "        '$' || total_revenue || ' total revenue, ' || unique_customers || ' unique customers, ' ||\n",
        "        'sentiment score ' || avg_sentiment_score,\n",
        "        ['Top Performer', 'Strong Performer', 'Average Performer', 'Needs Improvement', 'Underperformer']\n",
        "    ) as performance_category,\n",
        "    AI_COMPLETE(\n",
        "        'llama3-8b',\n",
        "        'Based on this restaurant performance data: ' || total_orders || ' orders, $' || total_revenue || \n",
        "        ' revenue, ' || unique_customers || ' customers, sentiment score ' || avg_sentiment_score || \n",
        "        '. Provide 2-3 specific actionable recommendations for improvement in 75 words or less.'\n",
        "    ) as improvement_recommendations\n",
        "FROM restaurant_analysis\n",
        "ORDER BY total_revenue DESC;\n",
        "\n",
        "-- Business Insight: This comprehensive analysis combines sentiment analysis, \n",
        "-- classification, and content generation to provide actionable business intelligence.\n"
      ]
    },
    {
      "cell_type": "markdown",
      "metadata": {},
      "source": [
        "## 3. AI_EXTRACT: Cleaning Up Messy Restaurant Data\n",
        "\n",
        "Real-world restaurant data is often messy and unstructured. AI_EXTRACT can transform chaotic text into clean, structured data for analysis.\n",
        "\n",
        "### 📋 **Data Loading Options:**\n",
        "\n",
        "**For Quick Demo:** Use Option B (VALUES statements) - data loads instantly  \n",
        "**For Realistic Demo:** Use Option A (CSV files) - shows real-world file loading\n",
        "\n",
        "**If using CSV files, first upload these files to your stage:**\n",
        "1. `messy_restaurant_data.csv` \n",
        "2. `messy_customer_reviews.csv`\n",
        "\n",
        "Let's load some messy restaurant data that showcases AI_EXTRACT's power:\n",
        "- **AI_SENTIMENT** enables real-time monitoring of customer satisfaction across all restaurant partners\n",
        "- Automated sentiment scoring helps identify underperforming restaurants before they impact the platform\n",
        "- Sentiment trends can predict customer churn and inform retention strategies\n",
        "\n",
        "### 2. Operational Optimization\n",
        "- **AI_CLASSIFY** categorizes menu items and customer segments for targeted marketing\n",
        "- **AI_EXTRACT** pulls specific operational insights from unstructured data\n",
        "- **AI_AGG** identifies patterns across large datasets that would be impossible to detect manually\n",
        "\n",
        "### 3. Personalization at Scale\n",
        "- **AI_EMBED** and **AI_SIMILARITY** power recommendation engines that increase order values\n",
        "- Personalized recommendations improve customer experience and platform stickiness\n",
        "- Similarity analysis helps restaurants understand competitive positioning\n",
        "\n",
        "### 4. Marketing Automation\n",
        "- **AI_COMPLETE** generates personalized marketing content at scale\n",
        "- Automated content creation ensures consistent messaging while reducing manual effort\n",
        "- Personalized retention campaigns improve customer lifetime value\n",
        "\n",
        "### 5. Executive Decision Support\n",
        "- **AI_SUMMARIZE_AGG** provides executive-level insights without manual analysis\n",
        "- Combined AI functions create comprehensive business intelligence dashboards\n",
        "- Data-driven recommendations support strategic decision-making\n",
        "\n",
        "### ROI Impact for Olo:\n",
        "- **Reduced churn** through proactive sentiment monitoring\n",
        "- **Increased order values** via personalized recommendations\n",
        "- **Improved operational efficiency** through automated insights\n",
        "- **Enhanced customer experience** through AI-powered personalization\n",
        "- **Scalable marketing** through automated content generation\n",
        "\n",
        "This demonstration shows how AISQL functions transform raw operational data into actionable business intelligence, enabling Olo to compete more effectively in the competitive hospitality technology market.\n"
      ]
    },
    {
      "cell_type": "code",
      "execution_count": null,
      "metadata": {
        "vscode": {
          "languageId": "sql"
        }
      },
      "outputs": [],
      "source": [
        "-- SIMPLE SOLUTION: Create the messy data directly (works immediately)\n",
        "CREATE OR REPLACE TABLE messy_restaurant_data AS\n",
        "SELECT * FROM VALUES\n",
        "(1, 'RESTAURANT INFO: Tony''s Pizza Place!!! Located somewhere on 123 main street seattle wa phone is (206)555-1234 or maybe (206)555-1235?? HOURS: mon-fri 11am to 10pm, weekends 12pm-11pm. We serve AMAZING pizza, pasta, salads & more! Owner: Tony Marinelli since 2019. DELIVERY FEE $3.99 minimum order $15 CASH OR CARD ACCEPTED'),\n",
        "(2, 'Dragon Wok Chinese Restaurant - Address: 456 Pine Ave, Seattle WA 98102 | Phone: 206.555.9876 | Email: info@dragonwok.com | SPECIALTIES: Kung Pao Chicken $12.95, Sweet & Sour Pork $11.50, Fried Rice $8.99, Lo Mein $9.99 | HOURS: Daily 11:30AM-9:30PM except Tuesdays CLOSED | Owner: Mrs. Chen | Est. 2020 | FREE delivery over $25!'),\n",
        "(3, 'Burger Palace!!! Best burgers in town!!! 789 Oak Street Bellevue WA call us at 425-555-0199 OPEN everyday 10am-midnight Classic Burger $8.99 Cheeseburger $9.99 Bacon Burger $11.99 Fries $3.99 Shakes $4.99 Owner Mike Johnson Family owned since 2018 WE DELIVER! $2.99 delivery fee minimum $12 order'),\n",
        "(4, 'TACO LOCO - Mexican Food - 321 Cedar St Redmond WA 98052 - Phone (425) 555-7777 - MENU: Tacos $2.50 each, Burritos $7.99, Quesadillas $6.99, Nachos $8.99 - HOURS: Mon-Thu 11am-9pm, Fri-Sat 11am-10pm, Sun 12pm-8pm - Carlos Rodriguez owner - CATERING AVAILABLE - Delivery $3.50 min order $10'),\n",
        "(5, 'Sushi Zen Japanese Restaurant located at 654 Maple Dr Kirkland WA 98033 phone number is 425-555-8888 email orders@sushizen.com FRESH SUSHI DAILY! California Roll $6.99 Salmon Roll $8.99 Tuna Roll $9.99 Sashimi Combo $15.99 HOURS Tuesday-Sunday 5pm-10pm CLOSED MONDAYS Owner Yuki Tanaka since 2021 Delivery available $5.99 fee minimum $20')\n",
        "AS t(messy_data_id, raw_text_data);\n",
        "\n",
        "-- Let's see what this messy data looks like\n",
        "SELECT messy_data_id, LEFT(raw_text_data, 100) || '...' as sample_text \n",
        "FROM messy_restaurant_data;\n"
      ]
    },
    {
      "cell_type": "markdown",
      "metadata": {},
      "source": [
        "### Example 1: Extract Basic Restaurant Information\n",
        "\n",
        "Now let's use AI_EXTRACT to clean up this messy data and extract structured information:\n"
      ]
    },
    {
      "cell_type": "code",
      "execution_count": null,
      "metadata": {
        "vscode": {
          "languageId": "sql"
        }
      },
      "outputs": [],
      "source": [
        "-- AI_EXTRACT transforms messy text into clean, structured data\n",
        "SELECT \n",
        "    messy_data_id,\n",
        "    AI_EXTRACT(\n",
        "        text => raw_text_data,\n",
        "        responseFormat => [\n",
        "            ['restaurant_name', 'What is the name of the restaurant?'],\n",
        "            ['address', 'What is the full address?'],\n",
        "            ['phone', 'What is the phone number?'],\n",
        "            ['cuisine_type', 'What type of cuisine do they serve?'],\n",
        "            ['owner', 'Who is the owner?']\n",
        "        ]\n",
        "    ) as extracted_info\n",
        "FROM messy_restaurant_data\n",
        "LIMIT 3;\n",
        "\n",
        "-- Notice how AI_EXTRACT handles:\n",
        "-- - Inconsistent formatting (ALL CAPS, mixed case, punctuation)\n",
        "-- - Multiple phone numbers (picks the correct one)\n",
        "-- - Scattered information throughout the text\n",
        "-- - Different text structures and styles\n"
      ]
    },
    {
      "cell_type": "markdown",
      "metadata": {},
      "source": [
        "### Example 2: Extract Menu Items and Pricing\n",
        "\n",
        "Let's extract menu information from the same messy data:\n"
      ]
    },
    {
      "cell_type": "code",
      "execution_count": null,
      "metadata": {
        "vscode": {
          "languageId": "sql"
        }
      },
      "outputs": [],
      "source": [
        "-- Extract menu items and pricing from messy restaurant descriptions\n",
        "SELECT \n",
        "    messy_data_id,\n",
        "    AI_EXTRACT(\n",
        "        text => raw_text_data,\n",
        "        responseFormat => [\n",
        "            ['menu_items', 'List all menu items mentioned with their prices'],\n",
        "            ['delivery_fee', 'What is the delivery fee?'],\n",
        "            ['minimum_order', 'What is the minimum order amount?'],\n",
        "            ['hours', 'What are the operating hours?']\n",
        "        ]\n",
        "    ) as menu_pricing_info\n",
        "FROM messy_restaurant_data\n",
        "WHERE messy_data_id IN (2, 3, 4);  -- Focus on restaurants with detailed menu info\n",
        "\n",
        "-- AI_EXTRACT intelligently parses:\n",
        "-- - Menu items scattered throughout text\n",
        "-- - Inconsistent price formatting ($12.95 vs $8.99)\n",
        "-- - Mixed delivery policies and fees\n",
        "-- - Various hour formats (11:30AM-9:30PM vs 11am-9pm)\n"
      ]
    },
    {
      "cell_type": "markdown",
      "metadata": {},
      "source": [
        "### Example 3: Extract Customer Review Insights from Messy Text\n",
        "\n",
        "Now let's work with messy customer reviews:\n"
      ]
    },
    {
      "cell_type": "code",
      "execution_count": null,
      "metadata": {
        "vscode": {
          "languageId": "sql"
        }
      },
      "outputs": [],
      "source": [
        "-- Option A: Load messy customer reviews from CSV\n",
        "CREATE OR REPLACE TABLE messy_customer_reviews (\n",
        "    review_id INTEGER,\n",
        "    messy_review_text STRING\n",
        ");\n",
        "\n",
        "COPY INTO messy_customer_reviews\n",
        "FROM @olo_data_stage/messy_customer_reviews.csv\n",
        "FILE_FORMAT = (\n",
        "    TYPE = 'CSV' \n",
        "    SKIP_HEADER = 1\n",
        "    FIELD_OPTIONALLY_ENCLOSED_BY = '\"'\n",
        "    ERROR_ON_COLUMN_COUNT_MISMATCH = FALSE\n",
        ");\n",
        "\n",
        "-- Option B: Quick demo version - create directly with VALUES\n",
        "/*\n",
        "CREATE OR REPLACE TABLE messy_customer_reviews AS\n",
        "SELECT * FROM VALUES\n",
        "(1, 'OMG just ordered from Tony''s Pizza Place last night and WOW!!! The margherita pizza was AMAZING - fresh basil, perfect crust, cheese was melted just right. Service was kinda slow though took like 45 mins but worth the wait I guess. Definitely ordering again! Oh and the garlic bread was good too. 4/5 stars would recommend to friends!'),\n",
        "(2, 'Dragon Wok delivery was terrible!!! Food took 1.5 hours to arrive and when it finally got here the lo mein was cold and soggy :( The kung pao chicken was way too spicy even though I asked for mild. Only good thing was the fried rice which was actually pretty tasty. Won''t be ordering again. 2 out of 5 stars. Very disappointed.'),\n",
        "(3, 'BURGER PALACE IS THE BEST!!! Had the bacon cheeseburger combo with fries and a chocolate shake. Burger was juicy and cooked perfectly, fries were crispy, shake was thick and creamy. Staff was super friendly too! Only complaint is it''s a bit pricey but you get what you pay for. Will definitely be back! 5 stars!')\n",
        "AS t(review_id, messy_review_text);\n",
        "*/\n",
        "\n",
        "-- Extract structured insights from chaotic review text\n",
        "SELECT \n",
        "    review_id,\n",
        "    AI_EXTRACT(\n",
        "        text => messy_review_text,\n",
        "        responseFormat => [\n",
        "            ['restaurant_name', 'What restaurant is being reviewed?'],\n",
        "            ['items_ordered', 'What specific items did they order?'],\n",
        "            ['positive_feedback', 'What did they like about their experience?'],\n",
        "            ['negative_feedback', 'What complaints or issues did they mention?'],\n",
        "            ['rating', 'What rating did they give (if mentioned)?'],\n",
        "            ['delivery_time', 'How long did delivery take (if mentioned)?']\n",
        "        ]\n",
        "    ) as review_insights\n",
        "FROM messy_customer_reviews;\n"
      ]
    },
    {
      "cell_type": "markdown",
      "metadata": {},
      "source": [
        "### Example 4: Business Intelligence from Messy Data\n",
        "\n",
        "Let's combine AI_EXTRACT with other AI functions for comprehensive analysis:\n"
      ]
    },
    {
      "cell_type": "code",
      "execution_count": null,
      "metadata": {
        "vscode": {
          "languageId": "sql"
        }
      },
      "outputs": [],
      "source": [
        "-- Advanced: Combine AI_EXTRACT with AI_SENTIMENT and AI_CLASSIFY for comprehensive insights\n",
        "WITH extracted_reviews AS (\n",
        "    SELECT \n",
        "        review_id,\n",
        "        messy_review_text,\n",
        "        AI_EXTRACT(\n",
        "            text => messy_review_text,\n",
        "            responseFormat => [\n",
        "                ['restaurant_name', 'What restaurant is being reviewed?'],\n",
        "                ['overall_experience', 'Summarize their overall experience in one sentence'],\n",
        "                ['key_issues', 'What were the main problems mentioned?'],\n",
        "                ['rating', 'What rating did they give?']\n",
        "            ]\n",
        "        ) as extracted_data\n",
        "    FROM messy_customer_reviews\n",
        ")\n",
        "SELECT \n",
        "    review_id,\n",
        "    extracted_data:restaurant_name::STRING as restaurant_name,\n",
        "    extracted_data:overall_experience::STRING as experience_summary,\n",
        "    extracted_data:key_issues::STRING as main_issues,\n",
        "    extracted_data:rating::STRING as customer_rating,\n",
        "    \n",
        "    -- Add sentiment analysis\n",
        "    AI_SENTIMENT(messy_review_text):categories[0]:sentiment::STRING as sentiment,\n",
        "    AI_SENTIMENT(messy_review_text):categories[0]:score::FLOAT as sentiment_score,\n",
        "    \n",
        "    -- Classify the review type\n",
        "    AI_CLASSIFY(\n",
        "        messy_review_text,\n",
        "        ['Excellent Experience', 'Good Experience', 'Average Experience', 'Poor Experience', 'Terrible Experience']\n",
        "    ) as experience_category,\n",
        "    \n",
        "    -- Generate action items\n",
        "    AI_COMPLETE(\n",
        "        'llama3-8b',\n",
        "        'Based on this customer review: \"' || LEFT(messy_review_text, 200) || '...\" provide 2 specific action items for the restaurant to improve. Keep response under 50 words.'\n",
        "    ) as action_items\n",
        "    \n",
        "FROM extracted_reviews;\n",
        "\n",
        "-- This demonstrates the power of combining AI functions:\n",
        "-- 1. AI_EXTRACT structures the messy text\n",
        "-- 2. AI_SENTIMENT analyzes emotional tone\n",
        "-- 3. AI_CLASSIFY categorizes the experience\n",
        "-- 4. AI_COMPLETE generates actionable recommendations\n"
      ]
    },
    {
      "cell_type": "markdown",
      "metadata": {},
      "source": [
        "### Key AI_EXTRACT Capabilities Demonstrated:\n",
        "\n",
        "**🧹 Data Cleaning Power:**\n",
        "- Handles inconsistent formatting (ALL CAPS, mixed case, excessive punctuation)\n",
        "- Extracts structured data from completely unorganized text\n",
        "- Identifies relevant information scattered throughout messy descriptions\n",
        "\n",
        "**🎯 Smart Information Extraction:**\n",
        "- Distinguishes between multiple phone numbers to find the correct one\n",
        "- Separates menu items from promotional text\n",
        "- Identifies ratings in various formats (4/5, 2 out of 5 stars, 5 stars!)\n",
        "\n",
        "**🔄 Real-World Applications:**\n",
        "- **Restaurant Onboarding**: Clean up messy restaurant submissions\n",
        "- **Review Analysis**: Structure chaotic customer feedback\n",
        "- **Data Migration**: Transform legacy text data into structured formats\n",
        "- **Social Media Monitoring**: Extract insights from unstructured social posts\n",
        "\n",
        "**💡 Business Value:**\n",
        "- Eliminates manual data entry and cleaning\n",
        "- Enables analysis of previously unusable text data\n",
        "- Scales data processing from hundreds to millions of records\n",
        "- Provides consistent structure for downstream analytics\n",
        "\n",
        "---\n",
        "\n",
        "## Key Business Insights and Takeaways\n"
      ]
    },
    {
      "cell_type": "markdown",
      "metadata": {},
      "source": [
        "### 1. Customer Satisfaction Intelligence\n",
        "- **AI_SENTIMENT** enables real-time monitoring of customer satisfaction across all restaurant partners\n",
        "- Automated sentiment scoring helps identify underperforming restaurants before they impact the platform\n",
        "- Sentiment trends can predict customer churn and inform retention strategies\n",
        "\n",
        "### 2. Operational Optimization  \n",
        "- **AI_CLASSIFY** categorizes menu items and customer segments for targeted marketing\n",
        "- **AI_EXTRACT** pulls specific operational insights from unstructured data\n",
        "- **AI_AGG** identifies patterns across large datasets that would be impossible to detect manually\n",
        "\n",
        "### 3. Personalization at Scale\n",
        "- **AI_EMBED** and **AI_SIMILARITY** power recommendation engines that increase order values\n",
        "- Personalized recommendations improve customer experience and platform stickiness\n",
        "- Similarity analysis helps restaurants understand competitive positioning\n",
        "\n",
        "### 4. Marketing Automation\n",
        "- **AI_COMPLETE** generates personalized marketing content at scale\n",
        "- Automated content creation ensures consistent messaging while reducing manual effort\n",
        "- Personalized retention campaigns improve customer lifetime value\n",
        "\n",
        "### 5. Executive Decision Support\n",
        "- **AI_SUMMARIZE_AGG** provides executive-level insights without manual analysis\n",
        "- Combined AI functions create comprehensive business intelligence dashboards\n",
        "- Data-driven recommendations support strategic decision-making\n",
        "\n",
        "### ROI Impact for Olo:\n",
        "- **Reduced churn** through proactive sentiment monitoring\n",
        "- **Increased order values** via personalized recommendations\n",
        "- **Improved operational efficiency** through automated insights\n",
        "- **Enhanced customer experience** through AI-powered personalization\n",
        "- **Scalable marketing** through automated content generation\n",
        "\n",
        "This demonstration shows how AISQL functions transform raw operational data into actionable business intelligence, enabling Olo to compete more effectively in the competitive hospitality technology market.\n"
      ]
    },
    {
      "cell_type": "markdown",
      "metadata": {},
      "source": []
    }
  ],
  "metadata": {
    "language_info": {
      "name": "python"
    }
  },
  "nbformat": 4,
  "nbformat_minor": 2
}
